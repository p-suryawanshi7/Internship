{
 "cells": [
  {
   "cell_type": "code",
   "execution_count": 1,
   "id": "9fdf16e2",
   "metadata": {},
   "outputs": [],
   "source": [
    "# Import module\n",
    "import sqlite3"
   ]
  },
  {
   "cell_type": "code",
   "execution_count": 2,
   "id": "d14ec807",
   "metadata": {},
   "outputs": [],
   "source": [
    "# Connecting to sqlite\n",
    "conn = sqlite3.connect('stores.db')"
   ]
  },
  {
   "cell_type": "code",
   "execution_count": 3,
   "id": "c330816d",
   "metadata": {},
   "outputs": [],
   "source": [
    "#declare cursor\n",
    "cursor= conn.cursor()"
   ]
  },
  {
   "cell_type": "markdown",
   "id": "faa5df98",
   "metadata": {},
   "source": [
    "### 1. Write SQL query to create table Customers."
   ]
  },
  {
   "cell_type": "code",
   "execution_count": 4,
   "id": "84f4cf7e",
   "metadata": {},
   "outputs": [],
   "source": [
    "# SQL command to create table and columns in stores database\n",
    "sql_command = \"\"\"CREATE TABLE Customers(\n",
    "CustomerNo INTEGER PRIMARY KEY,\n",
    "CustomerName VARCHAR(30),\n",
    "ContactLastName VARCHAR(15),\n",
    "ContactFirstName VARCHAR(15),\n",
    "Phone INTEGER(10),\n",
    "AddressLine1 VARCHAR(30),\n",
    "AddressLine2 VARCHAR(30),\n",
    "City CHAR(20),\n",
    "State CHAR(20),\n",
    "PostalCode INTEGER(6),\n",
    "Country CHAR(10),\n",
    "SalesRepEmployeeNumber INTEGER (30),\n",
    "CreditLimit INTEGER(10));\"\"\""
   ]
  },
  {
   "cell_type": "code",
   "execution_count": 5,
   "id": "61d0d698",
   "metadata": {},
   "outputs": [
    {
     "data": {
      "text/plain": [
       "<sqlite3.Cursor at 0x14f535260a0>"
      ]
     },
     "execution_count": 5,
     "metadata": {},
     "output_type": "execute_result"
    }
   ],
   "source": [
    "# execute the statement\n",
    "cursor.execute(sql_command)"
   ]
  },
  {
   "cell_type": "code",
   "execution_count": 6,
   "id": "9e3bd1a4",
   "metadata": {},
   "outputs": [
    {
     "data": {
      "text/plain": [
       "<sqlite3.Cursor at 0x14f535260a0>"
      ]
     },
     "execution_count": 6,
     "metadata": {},
     "output_type": "execute_result"
    }
   ],
   "source": [
    "# SQL command to insert the data in the table\n",
    "sql_command = \"\"\"INSERT INTO Customers VALUES \n",
    "(1, \"Rishabh Bansal\", \"Bansal\", \"Rishabh\",  0000000000,\"Road No. 72\", \"Karkardooma\", \"East Delhi\",\"Delhi\", 110032, \"INDIA\", 101, 1000000),\n",
    "(2, \"Swati Juneja\", \"Juneja\", \"Swati\",  1111111111, \"ISBM\", \"Jagraon Bridge\", \"Ludhiana\", \"Punjab\", 141008, \"INDIA\", 102, 1200000),\n",
    "(3, \"Arti Aggarwal\", \"Aggarwal\", \"Arti\", 2222222222, \"Road No 202\", \"Dwarka\", \"South Delhi\",  \"Delhi\", 110075, \"INDIA\", 103, 3000000),\n",
    "(4, \"Vidyut Thakur\", \"Thakur\", \"Vidyut\", 3333333333, \"Preet Nagar\", \"Akalsar Road\", \"Moga\",\"Punjab\", 142001, \"INDIA\", 104, 5000000),\n",
    "(5, \"Rishabh Rathore\", \"Rathore\", \"Rishabh\", 4444444444, \"Cross Road\", \"Indiranagar\", \"Bengaluru\",\"Karnataka\", 560038, \"INDIA\", 105, 2000000),\n",
    "(6, \"Mahima Chaudhary\", \"Chaudhary\", \"Mahima\", 5555555555, \"Budhpur\", \"Alipur\", \"North Delhi\", \"Delhi\", 110036, \"INDIA\", 106, 1800000),\n",
    "(7, \"Ritika Bansal\", \"Bansal\", \"Ritika\", 6666666666,  \"Santhusapet\",\" Bengaluru North\", \"Bengaluru\",\"Karnataka\", 560053, \"INDIA\", 107, 20000000),\n",
    "(8, \"Juhi Taneja\", \"Taneja\", \"Juhi\", 7777777777,\"Shahibabad\", \"Anand Vihar\", \"Ghaziabad\", \"UP\", 201005, \"INDIA\", 108, 7000000),\n",
    "(9,  \"Sunita Chaudhary\", \"Chaudhary\", \"Sunita\", 8888888888, \"Sant Namdev Path\", \"Gokhale Road\", \"Thane\", \"Maharashtra\", 400601, \"INDIA\", 109, 4000000),\n",
    "(10, \"Rudra Khurana\", \"Khurana\", \"Rudra\", 9999999999, \"B Block Road\", \"Preet Vihar\", \"East Delhi\", \"Delhi\", 110092, \"INDIA\", 110, 1400000),\n",
    "(11, \"Vaibhav Aggarwal\", \"Aggarwal\", \"Vaibhav\", 9125111111, \"LPU\", \"Phagwara\", \"Kapurthala\", \"Punjab\", 144401, \"INDIA\", 111, 50000000),\n",
    "(12, \"Mitali Bansal\", \"Bansal\", \"Mitali\", 5252525252, \"Shivaji Park\", \"Punjabi Bagh\", \"West Delhi\", \"Delhi\", 110026, \"INDIA\", 112, 1500000),\n",
    "(13, \"Rishabh Rathore\", \"Rathore\", \"Rishabh\", 8899995522, \"Vijay Nagar Main Road\", \"Vijay Nagar\", \"Bengaluru\", \"Karnataka\", 560040, \"INDIA\", 113, 25000000);\"\"\"\n",
    "\n",
    "# execute the statement\n",
    "cursor.execute(sql_command)"
   ]
  },
  {
   "cell_type": "markdown",
   "id": "83c61c59",
   "metadata": {},
   "source": [
    "### 2. Write SQL query to create table Orders."
   ]
  },
  {
   "cell_type": "code",
   "execution_count": 7,
   "id": "e6cac78b",
   "metadata": {},
   "outputs": [
    {
     "data": {
      "text/plain": [
       "<sqlite3.Cursor at 0x14f535260a0>"
      ]
     },
     "execution_count": 7,
     "metadata": {},
     "output_type": "execute_result"
    }
   ],
   "source": [
    "# SQL command to create table and columns in stores database\n",
    "sql_command = \"\"\"CREATE TABLE Orders(\n",
    "orderNo INTEGER PRIMARY KEY,\n",
    "orderdate DATE(10),\n",
    "requireddate DATE(10),\n",
    "shippeddate DATE(10),\n",
    "status CHAR(10),\n",
    "comments VARCHAR(30),\n",
    "CustomerNo INTEGER (15),\n",
    "FOREIGN KEY (CustomerNo) REFERENCES Customers (CustomerNo));\"\"\"\n",
    "\n",
    "# execute the statement\n",
    "cursor.execute(sql_command)"
   ]
  },
  {
   "cell_type": "code",
   "execution_count": 8,
   "id": "e5941270",
   "metadata": {},
   "outputs": [],
   "source": [
    "# To save the changes in the files. Never skip this.\n",
    "# If we skip this, nothing will be saved in the database.\n",
    "conn.commit()"
   ]
  },
  {
   "cell_type": "code",
   "execution_count": 10,
   "id": "1a196f3f",
   "metadata": {},
   "outputs": [
    {
     "data": {
      "text/plain": [
       "<sqlite3.Cursor at 0x14f535260a0>"
      ]
     },
     "execution_count": 10,
     "metadata": {},
     "output_type": "execute_result"
    }
   ],
   "source": [
    "# SQL command to insert the data in the table\n",
    "sql_command = \"\"\"INSERT INTO Orders VALUES \n",
    "(1, \"2022-10-10\", \"2022-10-10\", \"2022-10-10\", \"Shipped\", \"Good\", 1),\n",
    "(2, \"2022-10-10\", \"2022-10-10\", \"2022-10-10\", \"Dispatched\", \"Nice\", 2),\n",
    "(3, \"2022-10-10\", \"2022-10-10\", \"2022-10-10\", \"In Transit\", \"Not Good\", 3),\n",
    "(4, \"2022-10-10\", \"2022-10-10\", \"2022-10-10\", \"Delivered\", \"Awesome\", 4),\n",
    "(5, \"2022-10-10\", \"2022-10-11\", \"2022-10-11\", \"Dispatched\", \"Perfect\", 5),\n",
    "(6, \"2022-10-10\", \"2022-10-11\", \"2022-10-11\", \"In Transit\", \"Wrong Product\",  6),\n",
    "(7, \"2022-10-11\", \"2022-10-11\", \"2022-10-11\", \"Shipped\", \"Defective\", 7),\n",
    "(8, \"2022-10-11\", \"2022-10-11\", \"2022-10-11\", \"Dispatched\", \"Good\", 8),\n",
    "(9, \"2022-10-11\", \"2022-10-11\", \"2022-10-11\", \"Dispatched\", \"Amazing\", 9),\n",
    "(10, \"2022-10-11\", \"2022-10-12\", \"2022-10-12\", \"In Transit\", \"Bad\", 10),\n",
    "(11, \"2022-10-11\", \"2022-10-12\", \"2022-10-12\", \"Delivered\", \"Good Quality\", 11),\n",
    "(12, \"2022-10-11\", \"2022-10-13\", \"2022-10-12\", \"Dispatched\", \"Good Taste\", 12),\n",
    "(13, \"2022-10-11\", \"2022-10-13\", \"2022-10-12\", \"Delivered\", \"Fast\", 13);\"\"\"\n",
    "\n",
    "# execute the statement\n",
    "cursor.execute(sql_command)"
   ]
  },
  {
   "cell_type": "markdown",
   "id": "3c5efc20",
   "metadata": {},
   "source": [
    "### 3. Write SQL query to show all the columns data from the Orders Table."
   ]
  },
  {
   "cell_type": "code",
   "execution_count": 11,
   "id": "50f59e6e",
   "metadata": {},
   "outputs": [
    {
     "name": "stdout",
     "output_type": "stream",
     "text": [
      "(1, '2022-10-10', '2022-10-10', '2022-10-10', 'Shipped', 'Good', 1)\n",
      "(2, '2022-10-10', '2022-10-10', '2022-10-10', 'Dispatched', 'Nice', 2)\n",
      "(3, '2022-10-10', '2022-10-10', '2022-10-10', 'In Transit', 'Not Good', 3)\n",
      "(4, '2022-10-10', '2022-10-10', '2022-10-10', 'Delivered', 'Awesome', 4)\n",
      "(5, '2022-10-10', '2022-10-11', '2022-10-11', 'Dispatched', 'Perfect', 5)\n",
      "(6, '2022-10-10', '2022-10-11', '2022-10-11', 'In Transit', 'Wrong Product', 6)\n",
      "(7, '2022-10-11', '2022-10-11', '2022-10-11', 'Shipped', 'Defective', 7)\n",
      "(8, '2022-10-11', '2022-10-11', '2022-10-11', 'Dispatched', 'Good', 8)\n",
      "(9, '2022-10-11', '2022-10-11', '2022-10-11', 'Dispatched', 'Amazing', 9)\n",
      "(10, '2022-10-11', '2022-10-12', '2022-10-12', 'In Transit', 'Bad', 10)\n",
      "(11, '2022-10-11', '2022-10-12', '2022-10-12', 'Delivered', 'Good Quality', 11)\n",
      "(12, '2022-10-11', '2022-10-13', '2022-10-12', 'Dispatched', 'Good Taste', 12)\n",
      "(13, '2022-10-11', '2022-10-13', '2022-10-12', 'Delivered', 'Fast', 13)\n"
     ]
    }
   ],
   "source": [
    "# SQL command to select all the columns data from table \"Orders\" \n",
    "sql_command = \"\"\"SELECT * FROM  Orders;\"\"\"\n",
    "select= cursor.execute(sql_command)\n",
    "for i in select:\n",
    "    print(i)"
   ]
  },
  {
   "cell_type": "code",
   "execution_count": 12,
   "id": "a891042e",
   "metadata": {},
   "outputs": [],
   "source": [
    "# SQL command to create table and columns in stores database\n",
    "sql_command = \"\"\"CREATE TABLE ProductLines(\n",
    "ProductLine VARCHAR PRIMARY KEY,\n",
    "textDescription VARCHAR(30));\"\"\"\n",
    "# execute the statement\n",
    "cursor.execute(sql_command)\n",
    "\n",
    "conn.commit()"
   ]
  },
  {
   "cell_type": "code",
   "execution_count": 13,
   "id": "c74784fd",
   "metadata": {},
   "outputs": [],
   "source": [
    "sql_command = \"\"\"INSERT INTO ProductLines VALUES \n",
    "(\"Growth + Horlicks\", \"Horlicks Growth+ provides all the key type II nutrients known as growth nutrients (Protein, Potassium, Phosphorus, Zinc and Sodium) which are known to support growth.\"),\n",
    "(\"Bournvita Health Drink\", \"Health food drink with inner strength formula which has nutrients that support - Immune system (8 immunity nutrients), Strong bones (Vitamin D, Phosphorous), Strong muscles (Protein, Vitamin D) and Active Brain (Iron, Iodine, Vitamin B2, Vitamin B12)\"),\n",
    "(\"Washing Powder by Unilever\", \"Surf excel offers outstanding cleanliness on a wide range of stains, and with multiple product offerings, it is suited for both bucket and machine wash environments. \"),\n",
    "(\"Full Cream Milk\", \"It is a cooperative brand managed by Gujarat Cooperative Milk Marketing Federation Ltd. (GCMMF), which today is controlled jointly by 36 lakh milk producers in Gujarat and the apex body of 13 district milk unions, spread across 13,000 villages of Gujarat.\"),\n",
    "(\"Tonned Milk\", \"A perfect blend of good health and wholesome taste, Mother Dairy Toned Milk (Polypack) is an ideal choice for people who want nutritionally balanced diet to stay fit. Healthy and nutritious, this low-fat milk can be used in making beverages and milkshakes.\"),\n",
    "(\"American brand of toothpaste\", \"Pepsodent toothpaste was introduced in the United States in 1915 by the Pepsodent Company of Chicago. The original formula for the paste contained pepsin, a digestive agent designed to break down and digest food deposits on the teeth, hence the brand and company name.\");\"\"\"\n",
    "\n",
    "# execute the statement\n",
    "cursor.execute(sql_command)\n",
    "\n",
    "conn.commit()"
   ]
  },
  {
   "cell_type": "code",
   "execution_count": 14,
   "id": "7f0d1012",
   "metadata": {},
   "outputs": [],
   "source": [
    "# SQL command to create table and columns in stores database\n",
    "sql_command = \"\"\"CREATE TABLE Products(\n",
    "ProductCode INTEGER PRIMARY KEY,\n",
    "ProductName VARCHAR(20),\n",
    "ProductLine VARCHAR(15),\n",
    "ProductScale VARCHAR(10),\n",
    "ProductVendor VARCHAR(10),\n",
    "ProductDescription VARCHAR(30),\n",
    "QuantityInStock VARCHAR(10),\n",
    "BuyPrice INTEGER(10),\n",
    "MSRP INTEGER(10),\n",
    "FOREIGN KEY (ProductLine) REFERENCES ProductLines (ProductLine));\"\"\"\n",
    "\n",
    "# execute the statement\n",
    "cursor.execute(sql_command)\n",
    "\n",
    "conn.commit()"
   ]
  },
  {
   "cell_type": "code",
   "execution_count": 15,
   "id": "1157bc4e",
   "metadata": {},
   "outputs": [],
   "source": [
    "sql_command = \"\"\"INSERT INTO Products VALUES \n",
    "(1001, \"Horlicks Health Drinks\", \"Growth + Horlicks\", \"6 out of 10 stars\", \"GlaxoSmithKline\",\"Sweet malted milk hot drink powder\", \"20 Kg\", 420, 450),\n",
    "(1002, \"Bournvita Health Drinks\", \"Bournvita Health Drink\", \"5 out of 10 stars\", \"Ayurveda Bazar Private Limited\", \"Malted chocolate drink mix\", \"15 Kg\", 400, 420),\n",
    "(1003, \"Surf Excel Detergent\", \"Washing Powder by Unilever\", \"4.0 out of 5 stars\",  \"Hindustan Unilever Limited (HUL) and Unilever Sri Lanka\", \"First detergent powder of India and Pakistan\", \"30 Kg\", 300, 320),\n",
    "(1004, \"Amul Fresh Milk\", \"Full Cream Milk\", \"4.3 out of 5 stars\", \"Gujarat Govt. Cooperative Society \", \"Hygienic liquid milk\", \"50 ltr\", 50, 50),\n",
    "(1005, \"Mother Dairy Fresh Milk\", \"Tonned Milk\", \"4.3 out of 5 stars\", \"Indian food company\", \"Wholesome and healthy\", \"50 ltr\", 48, 48),\n",
    "(1006, \"Pepsodent Toothpaste\", \"American brand of toothpaste\",\"4.5 out of 5 stars\",  \"American brand\", \"American brand of toothpaste with the minty flavor derived from sassafras\", \"1000 gms\", 95, 100);\"\"\"\n",
    "\n",
    "# execute the statement\n",
    "cursor.execute(sql_command)\n",
    "\n",
    "conn.commit()"
   ]
  },
  {
   "cell_type": "code",
   "execution_count": 16,
   "id": "7f778bd9",
   "metadata": {},
   "outputs": [],
   "source": [
    "# SQL command to create table and columns in stores database\n",
    "sql_command = \"\"\"CREATE TABLE OrderDetails(\n",
    "orderNo INTEGER PRIMARY KEY,\n",
    "ProductCode INTEGER (10),\n",
    "QuantityOrdered VARCHAR(15),\n",
    "PriceEach INTEGER(15),\n",
    "OrderLineNumber INTEGER(10),\n",
    "FOREIGN KEY (orderNo) REFERENCES Orders (orderNo),\n",
    "FOREIGN KEY (ProductCode) REFERENCES Products (ProductCode));\"\"\"\n",
    "\n",
    "# execute the statement\n",
    "cursor.execute(sql_command)\n",
    "\n",
    "conn.commit()"
   ]
  },
  {
   "cell_type": "code",
   "execution_count": 17,
   "id": "1ec5c10d",
   "metadata": {},
   "outputs": [],
   "source": [
    "# SQL command to insert the data in the table\n",
    "sql_command = \"\"\"INSERT INTO OrderDetails VALUES \n",
    "(1, 1001, \"10 Kg\", 400, \"Growth + Horlicks\"),\n",
    "(2, 1002, \"10 Kg\", 300, \"Bournvita Health Drink\"),\n",
    "(3, 1003, \"20 Kg\", 95, \"Washing Powder by Unilever\"),\n",
    "(4, 1004, \"50 ltr\", 50, \"Full Cream Milk\"),\n",
    "(5, 1005, \"50 ltr\", 48, \"Tonned Milk\"),\n",
    "(6, 1006, \"750 gms\", 95, \"American brand of toothpaste\");\"\"\"\n",
    "\n",
    "# execute the statement\n",
    "cursor.execute(sql_command)\n",
    "\n",
    "conn.commit()"
   ]
  },
  {
   "cell_type": "code",
   "execution_count": 18,
   "id": "5a93c92d",
   "metadata": {},
   "outputs": [],
   "source": [
    "# SQL command to create table and columns in stores database\n",
    "sql_command = \"\"\"CREATE TABLE Employees(\n",
    "EmployeeNo INTEGER PRIMARY KEY,\n",
    "LastName VARCHAR(15),\n",
    "FirstName VARCHAR(15),\n",
    "extension INTEGER(2),\n",
    "email VARCHAR(30),\n",
    "OfficeCode INTEGER(5),\n",
    "reportsTo CHAR(20),\n",
    "JobTitle CHAR(20),\n",
    "FOREIGN KEY (EmployeeNo) REFERENCES Customers (SalesRepEmployeeNumber));\"\"\"\n",
    "\n",
    "# execute the statement\n",
    "cursor.execute(sql_command)\n",
    "\n",
    "conn.commit()"
   ]
  },
  {
   "cell_type": "code",
   "execution_count": 19,
   "id": "98411509",
   "metadata": {},
   "outputs": [],
   "source": [
    "# SQL command to insert the data in the table\n",
    "sql_command = \"\"\"INSERT INTO Employees VALUES \n",
    "(101, \"Verma\", \"Aman\", 01, \"Aman@gmail.com\", 10000, \"Manager\", \"Customer Service Representative\"),\n",
    "(102, \"Dutta\", \"Tina\", 02, \"Tina@gmail.com\", 10001, \"Manager\", \"Cashier\"),\n",
    "(103, \"Kapoor\", \"Meesha\", 03, \"Meesha@gmail.com\", 10002, \"Manager\", \"Sales Associate\"),\n",
    "(104, \"Kumar\", \"Varun\", 04, \"Varun@gmail.com\", 10003, \"Manager\", \"Cashier\"),\n",
    "(105, \"Dutt\", \"Kamal\", 05, \"Kamal@gmail.com\", 10004, \"Sr. Manager\", \"Sales Associate\"),\n",
    "(106, \"Rana\", \"Dev\", 06, \"Dev@gmail.com\", 10005, \"Manager\", \"Sr. Manager\");\"\"\"\n",
    "\n",
    "# execute the statement\n",
    "cursor.execute(sql_command)\n",
    "\n",
    "conn.commit()"
   ]
  },
  {
   "cell_type": "code",
   "execution_count": 20,
   "id": "0323d2b8",
   "metadata": {},
   "outputs": [],
   "source": [
    "# SQL command to create table and columns in stores database\n",
    "sql_command = \"\"\"CREATE TABLE Offices(\n",
    "OfficeCode INTEGER PRIMARY KEY,\n",
    "City CHAR(30),\n",
    "Phone INTEGER(10),\n",
    "AddressLine1 VARCHAR(30),\n",
    "AddressLine2 VARCHAR(30),\n",
    "State CHAR(20),\n",
    "Country CHAR(10),\n",
    "PostalCode INTEGER(6),\n",
    "territory CHAR (15),\n",
    "FOREIGN KEY (OfficeCode) REFERENCES Employees (OfficeCode));\"\"\"\n",
    "\n",
    "# execute the statement\n",
    "cursor.execute(sql_command)\n",
    "\n",
    "conn.commit()"
   ]
  },
  {
   "cell_type": "code",
   "execution_count": 21,
   "id": "70b00df6",
   "metadata": {},
   "outputs": [],
   "source": [
    "# SQL command to insert the data in the table\n",
    "sql_command = \"\"\"INSERT INTO Offices VALUES \n",
    "(10000, \"Central Delhi\", 8585858585, \"Street No 1\", \"CP\", \"Delhi\", \"India\",110002, \"National Capital Territory\"),\n",
    "(10001, \"East Delhi\", 9988998899, \"Street No 2\", \"Karkardooma\", \"Delhi\", \"India\", 110092, \"National Capital Territory\"),\n",
    "(10002, \"North Delhi\", 7575959585, \"Street No 3\", \"Budhpur\", \"Delhi\", \"India\", 110036, \"National Capital Territory\"),\n",
    "(10003, \"South Delhi\", 7788997789, \"Street No 4\", \"Dwarka\", \"Delhi\", \"India\", 110075, \"National Capital Territory\"),\n",
    "(10004, \"West Delhi\", 9080975065, \"Street No 5\", \"Punjabi Bagh\", \"Delhi\", \"India\", 110026, \"National Capital Territory\");\"\"\"\n",
    "\n",
    "# execute the statement\n",
    "cursor.execute(sql_command)\n",
    "\n",
    "conn.commit()"
   ]
  },
  {
   "cell_type": "code",
   "execution_count": 22,
   "id": "e29d40fb",
   "metadata": {},
   "outputs": [],
   "source": [
    "# SQL command to create table and columns in stores database\n",
    "sql_command = \"\"\"CREATE TABLE Payments(\n",
    "CustomerNo INTEGER PRIMARY KEY,\n",
    "ChequeNo INTEGER NOT NULL UNIQUE,\n",
    "PaymentDate DATE(10),\n",
    "Amount INTEGER(15),\n",
    "FOREIGN KEY (CustomerNo) REFERENCES Customers (CustomerNo));\"\"\"\n",
    "\n",
    "# execute the statement\n",
    "cursor.execute(sql_command)\n",
    "\n",
    "conn.commit()"
   ]
  },
  {
   "cell_type": "code",
   "execution_count": 23,
   "id": "40d5894d",
   "metadata": {},
   "outputs": [
    {
     "data": {
      "text/plain": [
       "<sqlite3.Cursor at 0x14f535260a0>"
      ]
     },
     "execution_count": 23,
     "metadata": {},
     "output_type": "execute_result"
    }
   ],
   "source": [
    "# SQL command to insert the data in the table\n",
    "sql_command = \"\"\"INSERT INTO Payments VALUES \n",
    "(1, 200025, \"2022-10-10\", 10000),\n",
    "(2, 456854, \"2022-10-10\", 30000),\n",
    "(3, 856584, \"2022-10-11\", 55000),\n",
    "(4, 665544, \"2022-10-11\", 25000),\n",
    "(5, 100054, \"2022-10-12\", 80000);\"\"\"\n",
    "\n",
    "# execute the statement\n",
    "cursor.execute(sql_command)"
   ]
  },
  {
   "cell_type": "code",
   "execution_count": 24,
   "id": "bae1c1b4",
   "metadata": {},
   "outputs": [],
   "source": [
    "conn.commit()"
   ]
  },
  {
   "cell_type": "markdown",
   "id": "03054d60",
   "metadata": {},
   "source": [
    "### 4. Write SQL query to show all the comments from the OrdersTable."
   ]
  },
  {
   "cell_type": "code",
   "execution_count": 25,
   "id": "b1e68ef5",
   "metadata": {},
   "outputs": [
    {
     "name": "stdout",
     "output_type": "stream",
     "text": [
      "('Good',)\n",
      "('Nice',)\n",
      "('Not Good',)\n",
      "('Awesome',)\n",
      "('Perfect',)\n",
      "('Wrong Product',)\n",
      "('Defective',)\n",
      "('Good',)\n",
      "('Amazing',)\n",
      "('Bad',)\n",
      "('Good Quality',)\n",
      "('Good Taste',)\n",
      "('Fast',)\n"
     ]
    }
   ],
   "source": [
    "# SQL command to select all the comments from the \"Orders\" Table\n",
    "sql_command = \"\"\"SELECT comments FROM  Orders;\"\"\"\n",
    "select= cursor.execute(sql_command)\n",
    "for i in select:\n",
    "    print(i)"
   ]
  },
  {
   "cell_type": "markdown",
   "id": "a763387e",
   "metadata": {},
   "source": [
    "### 5. Write a SQL query to show orderDate and Total number of orders placed on that date, from Orders table."
   ]
  },
  {
   "cell_type": "code",
   "execution_count": 34,
   "id": "6fdd30f6",
   "metadata": {},
   "outputs": [
    {
     "name": "stdout",
     "output_type": "stream",
     "text": [
      "('2022-10-10', 6)\n",
      "('2022-10-11', 7)\n"
     ]
    }
   ],
   "source": [
    "# SQL command to show all orderDate and Total No from the \"Orders\" Table\n",
    "sql_command = \"\"\"SELECT  date(orderdate), COUNT(*) FROM Orders GROUP BY date(orderdate);\"\"\"\n",
    "select= cursor.execute(sql_command)\n",
    "for i in select:\n",
    "    print(i)"
   ]
  },
  {
   "cell_type": "markdown",
   "id": "13388ba4",
   "metadata": {},
   "source": [
    "### 6. Write a SQL query to show employeNumber, lastName, firstName of all the employees from employees table."
   ]
  },
  {
   "cell_type": "code",
   "execution_count": 35,
   "id": "49e8af0b",
   "metadata": {},
   "outputs": [
    {
     "name": "stdout",
     "output_type": "stream",
     "text": [
      "(101, 'Verma', 'Aman')\n",
      "(102, 'Dutta', 'Tina')\n",
      "(103, 'Kapoor', 'Meesha')\n",
      "(104, 'Kumar', 'Varun')\n",
      "(105, 'Dutt', 'Kamal')\n",
      "(106, 'Rana', 'Dev')\n"
     ]
    }
   ],
   "source": [
    "sql_command = \"\"\"SELECT  EmployeeNo, LastName, FirstName FROM Employees;\"\"\"\n",
    "select= cursor.execute(sql_command)\n",
    "for i in select:\n",
    "    print(i)"
   ]
  },
  {
   "cell_type": "markdown",
   "id": "85f06ecb",
   "metadata": {},
   "source": [
    "### 7. Write a SQL query to show all orderNumber, customerName of the person who placed the respective order."
   ]
  },
  {
   "cell_type": "code",
   "execution_count": 36,
   "id": "5e21e182",
   "metadata": {},
   "outputs": [
    {
     "name": "stdout",
     "output_type": "stream",
     "text": [
      "(1, 'Rishabh Bansal')\n",
      "(2, 'Swati Juneja')\n",
      "(3, 'Arti Aggarwal')\n",
      "(4, 'Vidyut Thakur')\n",
      "(5, 'Rishabh Rathore')\n",
      "(6, 'Mahima Chaudhary')\n",
      "(7, 'Ritika Bansal')\n",
      "(8, 'Juhi Taneja')\n",
      "(9, 'Sunita Chaudhary')\n",
      "(10, 'Rudra Khurana')\n",
      "(11, 'Vaibhav Aggarwal')\n",
      "(12, 'Mitali Bansal')\n",
      "(13, 'Rishabh Rathore')\n"
     ]
    }
   ],
   "source": [
    "sql_command = \"\"\"SELECT  Orders.orderNo, Customers.CustomerName FROM Orders, Customers \n",
    "WHERE Orders.CustomerNo = Customers.CustomerNo;\"\"\"\n",
    "select= cursor.execute(sql_command)\n",
    "for i in select:\n",
    "    print(i)"
   ]
  },
  {
   "cell_type": "markdown",
   "id": "77d4f0be",
   "metadata": {},
   "source": [
    "### 8. Write a SQL query to show name of all the customers in one column and salerepemployee name in another  column."
   ]
  },
  {
   "cell_type": "code",
   "execution_count": 122,
   "id": "c6b18cd2",
   "metadata": {},
   "outputs": [
    {
     "name": "stdout",
     "output_type": "stream",
     "text": [
      "('Rishabh Bansal', 'Aman Verma')\n",
      "('Swati Juneja', 'Tina Dutta')\n",
      "('Arti Aggarwal', 'Meesha Kapoor')\n",
      "('Vidyut Thakur', 'Varun Kumar')\n",
      "('Rishabh Rathore', 'Kamal Dutt')\n",
      "('Mahima Chaudhary', 'Dev Rana')\n"
     ]
    }
   ],
   "source": [
    "sql_command = \"\"\"SELECT  Customers.CustomerName,  Employees.FirstName || ' ' || LastName AS FullName  FROM Customers, Employees\n",
    "WHERE Customers.SalesRepEmployeeNumber = Employees.EmployeeNo;\"\"\"\n",
    "select= cursor.execute(sql_command)\n",
    "for i in select:\n",
    "    print(i)"
   ]
  },
  {
   "cell_type": "markdown",
   "id": "38d7e424",
   "metadata": {},
   "source": [
    "### 9. Write a SQL query to show Date in one column and total payment amount of the payments made on that date from the payments table."
   ]
  },
  {
   "cell_type": "code",
   "execution_count": 70,
   "id": "84dad086",
   "metadata": {},
   "outputs": [
    {
     "name": "stdout",
     "output_type": "stream",
     "text": [
      "('2022-10-10', 40000)\n",
      "('2022-10-11', 80000)\n",
      "('2022-10-12', 80000)\n"
     ]
    }
   ],
   "source": [
    "sql_command = \"\"\"SELECT  date(PaymentDate), SUM(Amount) FROM Payments GROUP BY date(PaymentDate);\"\"\"\n",
    "select= cursor.execute(sql_command)\n",
    "for i in select:\n",
    "    print(i)"
   ]
  },
  {
   "cell_type": "markdown",
   "id": "67301870",
   "metadata": {},
   "source": [
    "###  10. Write a SQL query to show all the products productName, MSRP, productDescription from the products table."
   ]
  },
  {
   "cell_type": "code",
   "execution_count": 71,
   "id": "7153f6a0",
   "metadata": {},
   "outputs": [
    {
     "name": "stdout",
     "output_type": "stream",
     "text": [
      "('Horlicks Health Drinks', 450, 'Sweet malted milk hot drink powder')\n",
      "('Bournvita Health Drinks', 420, 'Malted chocolate drink mix')\n",
      "('Surf Excel Detergent', 320, 'First detergent powder of India and Pakistan')\n",
      "('Amul Fresh Milk', 50, 'Hygienic liquid milk')\n",
      "('Mother Dairy Fresh Milk', 48, 'Wholesome and healthy')\n",
      "('Pepsodent Toothpaste', 100, 'American brand of toothpaste with the minty flavor derived from sassafras')\n"
     ]
    }
   ],
   "source": [
    "sql_command = \"\"\"SELECT ProductName, MSRP, ProductDescription FROM Products;\"\"\"\n",
    "select= cursor.execute(sql_command)\n",
    "for i in select:\n",
    "    print(i)"
   ]
  },
  {
   "cell_type": "markdown",
   "id": "d9a15b56",
   "metadata": {},
   "source": [
    "### 11. Write a SQL query to print the productName, productDescription of the most ordered product."
   ]
  },
  {
   "cell_type": "code",
   "execution_count": 108,
   "id": "70353420",
   "metadata": {},
   "outputs": [
    {
     "name": "stdout",
     "output_type": "stream",
     "text": [
      "('Horlicks Health Drinks', 'Sweet malted milk hot drink powder', 20.0)\n",
      "('Surf Excel Detergent', 'First detergent powder of India and Pakistan', 20.0)\n",
      "('Amul Fresh Milk', 'Hygienic liquid milk', 100.0)\n",
      "('Pepsodent Toothpaste', 'American brand of toothpaste with the minty flavor derived from sassafras', 750.0)\n"
     ]
    }
   ],
   "source": [
    "sql_command = \"\"\"SELECT Products.ProductName, Products.ProductDescription, SUM(OrderDetails.QuantityOrdered) AS QuantityOrdered\n",
    "FROM Products \n",
    "INNER JOIN OrderDetails\n",
    "ON OrderDetails.ProductCode = Products.ProductCode \n",
    "GROUP BY OrderDetails.QuantityOrdered ;\"\"\"\n",
    "select= cursor.execute(sql_command)\n",
    "for i in select:\n",
    "    print(i)"
   ]
  },
  {
   "cell_type": "markdown",
   "id": "54b008be",
   "metadata": {},
   "source": [
    "### 12. Write a SQL query to print the city name where maximum number of orders were placed."
   ]
  },
  {
   "cell_type": "code",
   "execution_count": 110,
   "id": "fd8b0403",
   "metadata": {},
   "outputs": [
    {
     "name": "stdout",
     "output_type": "stream",
     "text": [
      "('East Delhi', 20.0)\n",
      "('South Delhi', 20.0)\n",
      "('Moga', 100.0)\n",
      "('North Delhi', 750.0)\n"
     ]
    }
   ],
   "source": [
    "sql_command = \"\"\"SELECT Customers.City, SUM(OrderDetails.QuantityOrdered) AS QuantityOrdered \n",
    "FROM Customers \n",
    "INNER JOIN OrderDetails, Orders \n",
    "ON Customers.CustomerNo = Orders.CustomerNo and Orders.orderNo = OrderDetails.orderNo\n",
    "GROUP BY OrderDetails.QuantityOrdered ;\"\"\"\n",
    "select= cursor.execute(sql_command)\n",
    "for i in select:\n",
    "    print(i)"
   ]
  },
  {
   "cell_type": "markdown",
   "id": "b68481a1",
   "metadata": {},
   "source": [
    "### 13. Write a SQL query to get the name of the state having maximum number of customers."
   ]
  },
  {
   "cell_type": "code",
   "execution_count": 115,
   "id": "0f6b7324",
   "metadata": {},
   "outputs": [
    {
     "name": "stdout",
     "output_type": "stream",
     "text": [
      "('Delhi', 5)\n",
      "('Punjab', 3)\n",
      "('Karnataka', 3)\n",
      "('UP', 1)\n",
      "('Maharashtra', 1)\n"
     ]
    }
   ],
   "source": [
    "sql_command = \"\"\"SELECT State, COUNT(*) AS Max_Customer \n",
    "FROM Customers \n",
    "GROUP BY State\n",
    "ORDER BY COUNT(*) DESC;\"\"\"\n",
    "select= cursor.execute(sql_command)\n",
    "for i in select:\n",
    "    print(i)"
   ]
  },
  {
   "cell_type": "markdown",
   "id": "b5c6ddaf",
   "metadata": {},
   "source": [
    "### 14. Write a SQL query to print the employee number in one column and Full name of the employee in the  second column for all the employees."
   ]
  },
  {
   "cell_type": "code",
   "execution_count": 123,
   "id": "58f82973",
   "metadata": {},
   "outputs": [
    {
     "name": "stdout",
     "output_type": "stream",
     "text": [
      "(101, 'Aman Verma')\n",
      "(102, 'Tina Dutta')\n",
      "(103, 'Meesha Kapoor')\n",
      "(104, 'Varun Kumar')\n",
      "(105, 'Kamal Dutt')\n",
      "(106, 'Dev Rana')\n"
     ]
    }
   ],
   "source": [
    "sql_command = \"\"\"SELECT EmployeeNo, FirstName || ' ' || LastName AS FullName \n",
    "FROM Employees ;\"\"\"\n",
    "select= cursor.execute(sql_command)\n",
    "for i in select:\n",
    "    print(i)"
   ]
  },
  {
   "cell_type": "markdown",
   "id": "4169aa83",
   "metadata": {},
   "source": [
    "### 15. Write a SQL query to print the orderNumber, customer Name and total amount paid by the customer for that order (quantityOrdered × priceEach)"
   ]
  },
  {
   "cell_type": "code",
   "execution_count": 155,
   "id": "baf7e004",
   "metadata": {},
   "outputs": [
    {
     "name": "stdout",
     "output_type": "stream",
     "text": [
      "(1, 'Rishabh Bansal', 4000)\n",
      "(2, 'Swati Juneja', 3000)\n",
      "(3, 'Arti Aggarwal', 1900)\n",
      "(4, 'Vidyut Thakur', 2500)\n",
      "(5, 'Rishabh Rathore', 2400)\n",
      "(6, 'Mahima Chaudhary', 71250)\n"
     ]
    }
   ],
   "source": [
    "sql_command = \"\"\"SELECT OrderDetails.orderNo, Customers.CustomerName, (OrderDetails.QuantityOrdered  * OrderDetails.PriceEach) AS Amount\n",
    "FROM OrderDetails\n",
    "INNER JOIN Customers, Orders\n",
    "ON Customers.CustomerNo = Orders.CustomerNo and OrderDetails.orderNo = Orders.orderNo;\"\"\"\n",
    "select= cursor.execute(sql_command)\n",
    "for i in select:\n",
    "    print(i)"
   ]
  },
  {
   "cell_type": "code",
   "execution_count": null,
   "id": "72879805",
   "metadata": {},
   "outputs": [],
   "source": []
  }
 ],
 "metadata": {
  "kernelspec": {
   "display_name": "Python 3 (ipykernel)",
   "language": "python",
   "name": "python3"
  },
  "language_info": {
   "codemirror_mode": {
    "name": "ipython",
    "version": 3
   },
   "file_extension": ".py",
   "mimetype": "text/x-python",
   "name": "python",
   "nbconvert_exporter": "python",
   "pygments_lexer": "ipython3",
   "version": "3.9.7"
  }
 },
 "nbformat": 4,
 "nbformat_minor": 5
}
