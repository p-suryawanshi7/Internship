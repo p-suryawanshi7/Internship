{
 "cells": [
  {
   "cell_type": "code",
   "execution_count": 1,
   "id": "7a3cfdf6",
   "metadata": {},
   "outputs": [
    {
     "name": "stdout",
     "output_type": "stream",
     "text": [
      "Enter The Number:6\n",
      "Factorial= 720\n"
     ]
    }
   ],
   "source": [
    "#Q.11.Ans-Program To Find The Factoiral Of A Number\n",
    "\n",
    "i=int(input(\"Enter The Number:\"))\n",
    "n=1\n",
    "while i>0:\n",
    "    n=n*i\n",
    "    i=i-1\n",
    "print(\"Factorial=\",n)"
   ]
  },
  {
   "cell_type": "code",
   "execution_count": 2,
   "id": "f19c1539",
   "metadata": {},
   "outputs": [
    {
     "name": "stdout",
     "output_type": "stream",
     "text": [
      "Enter a Number: 5\n",
      "Number 5 is a Prime Number\n"
     ]
    }
   ],
   "source": [
    "#Q.12.Ans- To find whether a number is prime or composite.\n",
    "\n",
    "Number=int(input(\"Enter a Number: \"))\n",
    "if Number>1:\n",
    "    for i in range (2,Number):\n",
    "        if (Number%i)==0:\n",
    "            print('Number', Number, 'is not a Prime Number')\n",
    "            break\n",
    "    else:\n",
    "        print('Number', Number, 'is a Prime Number')\n",
    "else:\n",
    "    print('Number', Number, 'is a Composite Number')"
   ]
  },
  {
   "cell_type": "code",
   "execution_count": 3,
   "id": "626e5cb9",
   "metadata": {},
   "outputs": [
    {
     "name": "stdout",
     "output_type": "stream",
     "text": [
      "Enter Text: Panku\n",
      "The Text is not a palindrome\n"
     ]
    }
   ],
   "source": [
    "#Q.13. To check whether a given string is palindrome or not.\n",
    "\n",
    "Text =str(input(\"Enter Text: \"))\n",
    "if(Text==Text[::-1]):\n",
    "   print(\"The Text is a palindrome\")\n",
    "else:\n",
    "   print(\"The Text is not a palindrome\")"
   ]
  },
  {
   "cell_type": "code",
   "execution_count": 4,
   "id": "0f6ac252",
   "metadata": {},
   "outputs": [],
   "source": [
    "#Q.14.Ans- To get the third side of right-angled triangle from two given sides.\n",
    "\n",
    "def pythagoras(opposite_side,adjacent_side,hypotenuse):\n",
    "        if opposite_side == str(\"x\"):\n",
    "            return (\"Opposite_Side = \" + str(((hypotenuse**2) - (adjacent_side**2))**0.5))\n",
    "        elif adjacent_side == str(\"x\"):\n",
    "            return (\"Adjacent_Side = \" + str(((hypotenuse**2) - (opposite_side**2))**0.5))\n",
    "        elif hypotenuse == str(\"x\"):\n",
    "            return (\"Hypotenuse = \" + str(((opposite_side**2) + (adjacent_side**2))**0.5))"
   ]
  },
  {
   "cell_type": "code",
   "execution_count": 5,
   "id": "c6100d9e",
   "metadata": {},
   "outputs": [
    {
     "name": "stdout",
     "output_type": "stream",
     "text": [
      "Hypotenuse = 6.324555320336759\n"
     ]
    }
   ],
   "source": [
    "print(pythagoras(2,6,'x'))"
   ]
  },
  {
   "cell_type": "code",
   "execution_count": 6,
   "id": "77911e97",
   "metadata": {},
   "outputs": [
    {
     "name": "stdout",
     "output_type": "stream",
     "text": [
      "Adjacent_Side = 4.898979485566356\n"
     ]
    }
   ],
   "source": [
    "print(pythagoras(5,'x',7))"
   ]
  },
  {
   "cell_type": "code",
   "execution_count": 7,
   "id": "d32acb34",
   "metadata": {},
   "outputs": [
    {
     "name": "stdout",
     "output_type": "stream",
     "text": [
      "Opposite_Side = 5.291502622129181\n"
     ]
    }
   ],
   "source": [
    "print(pythagoras('x',6,8))"
   ]
  },
  {
   "cell_type": "code",
   "execution_count": 8,
   "id": "beefa017",
   "metadata": {},
   "outputs": [
    {
     "name": "stdout",
     "output_type": "stream",
     "text": [
      "The frequency of each of the characters present in a given string is: {'P': 1, 'a': 4, 'n': 2, 'k': 1, 'j': 1, ' ': 1, 'S': 1, 'u': 1, 'r': 1, 'y': 1, 'w': 1, 's': 1, 'h': 1, 'i': 1}\n"
     ]
    }
   ],
   "source": [
    "#Q.15.Ans- To print the frequency of each of the characters present in a given string\n",
    "Text=\"Pankaj Suryawanshi\"\n",
    "frequency={}\n",
    "for i in Text:\n",
    "    if i in frequency:\n",
    "        frequency[i]+=1\n",
    "    else:\n",
    "        frequency[i]=1\n",
    "print('The frequency of each of the characters present in a given string is:' , frequency)"
   ]
  },
  {
   "cell_type": "code",
   "execution_count": null,
   "id": "13a2f8d3",
   "metadata": {},
   "outputs": [],
   "source": []
  }
 ],
 "metadata": {
  "kernelspec": {
   "display_name": "Python 3 (ipykernel)",
   "language": "python",
   "name": "python3"
  },
  "language_info": {
   "codemirror_mode": {
    "name": "ipython",
    "version": 3
   },
   "file_extension": ".py",
   "mimetype": "text/x-python",
   "name": "python",
   "nbconvert_exporter": "python",
   "pygments_lexer": "ipython3",
   "version": "3.9.7"
  }
 },
 "nbformat": 4,
 "nbformat_minor": 5
}
